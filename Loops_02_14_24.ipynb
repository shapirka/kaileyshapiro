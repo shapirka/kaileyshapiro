{
  "nbformat": 4,
  "nbformat_minor": 0,
  "metadata": {
    "colab": {
      "provenance": [],
      "include_colab_link": true
    },
    "kernelspec": {
      "name": "python3",
      "display_name": "Python 3"
    },
    "language_info": {
      "name": "python"
    }
  },
  "cells": [
    {
      "cell_type": "markdown",
      "metadata": {
        "id": "view-in-github",
        "colab_type": "text"
      },
      "source": [
        "<a href=\"https://colab.research.google.com/github/shapirka/neur_265kaileyshapiro/blob/main/Loops_02_14_24.ipynb\" target=\"_parent\"><img src=\"https://colab.research.google.com/assets/colab-badge.svg\" alt=\"Open In Colab\"/></a>"
      ]
    },
    {
      "cell_type": "markdown",
      "source": [
        "# Programming Fundamentals IV\n",
        "\n",
        "### Loops\n",
        "\n",
        "In this notebook, we'll begin writing loops."
      ],
      "metadata": {
        "id": "eA6kCxQLj6zv"
      }
    },
    {
      "cell_type": "markdown",
      "source": [
        "## At the end of this notebook, you'll be able to:\n",
        "\n",
        "* Write a simple loop\n",
        "* Write a simple function"
      ],
      "metadata": {
        "id": "7BUViDT7kI3N"
      }
    },
    {
      "cell_type": "markdown",
      "source": [
        "## Loops\n",
        "\n",
        "Loops allow you to run a bit of code multiple times. They're a great way to avoid copying and pasting the same bit of code multiple times."
      ],
      "metadata": {
        "id": "wm4iNAlUkV8M"
      }
    },
    {
      "cell_type": "markdown",
      "source": [
        "### Loops can be written in multiple ways.\n",
        "\n",
        "The `for` loop iterates over the elements of the supplied list, and executes the containing block once for each element.\n",
        "\n",
        "Any kind of list can be used in the for loop (e.g., a list, a range, etc.)"
      ],
      "metadata": {
        "id": "iz_u-PiZka5Y"
      }
    },
    {
      "cell_type": "code",
      "source": [
        "# Simple for loop\n",
        "\n",
        "values = range(4)\n",
        "\n",
        "# Iterate from i = 0 to i = 3\n",
        "\n",
        "for i in values:\n",
        "  print(i)"
      ],
      "metadata": {
        "id": "yg1rynhgkiA4",
        "outputId": "338e2770-7f0c-4bf1-c03d-1ba406d0dbca",
        "colab": {
          "base_uri": "https://localhost:8080/"
        }
      },
      "execution_count": 34,
      "outputs": [
        {
          "output_type": "stream",
          "name": "stdout",
          "text": [
            "0\n",
            "1\n",
            "2\n",
            "3\n"
          ]
        }
      ]
    },
    {
      "cell_type": "markdown",
      "source": [
        "The logic behind this loop looks something like this:\n",
        "\n",
        "<img src = 'https://drive.google.com/uc?id=13-Mg6fyW5WmyIfot0Y7zpMI64cdC9GbU'>\n",
        "\n"
      ],
      "metadata": {
        "id": "z0_jvp6omBiq"
      }
    },
    {
      "cell_type": "markdown",
      "source": [
        "><b>Task:</b> Make a `for` loop that re-creates the text in the below image:\n",
        "\n",
        "<img src = 'https://drive.google.com/uc?id=1sdA0HB65T4ZEOojbIk1CMz_ZDa7U8Zj9'>\n"
      ],
      "metadata": {
        "id": "mFyG0u6Fn_1R"
      }
    },
    {
      "cell_type": "code",
      "source": [
        "# Your code here\n",
        "\n",
        "values = range(3)\n",
        "for i in values:\n",
        "  print('You son of a bitch im in')\n",
        "print('You son of a bitch im out')"
      ],
      "metadata": {
        "id": "vHkj-HvgoZZw",
        "outputId": "db2202c5-15b5-48f7-ea3d-c82fedf2f670",
        "colab": {
          "base_uri": "https://localhost:8080/"
        }
      },
      "execution_count": 35,
      "outputs": [
        {
          "output_type": "stream",
          "name": "stdout",
          "text": [
            "You son of a bitch im in\n",
            "You son of a bitch im in\n",
            "You son of a bitch im in\n",
            "You son of a bitch im out\n"
          ]
        }
      ]
    },
    {
      "cell_type": "markdown",
      "source": [
        "Sometimes it is useful to have access to the indices of the values when iterating over a list. We can use the `enumerate` function for this:\n",
        "> having 'idx' tells it to print the index value too\n"
      ],
      "metadata": {
        "id": "oly4tp45o-TO"
      }
    },
    {
      "cell_type": "code",
      "source": [
        "for idx, x in enumerate(range(-3,3)):\n",
        "    print(idx, x)"
      ],
      "metadata": {
        "id": "ztt6ZJFMpFHH",
        "outputId": "b236261e-c13f-4cc4-cf2e-170c61d229c5",
        "colab": {
          "base_uri": "https://localhost:8080/"
        }
      },
      "execution_count": 36,
      "outputs": [
        {
          "output_type": "stream",
          "name": "stdout",
          "text": [
            "0 -3\n",
            "1 -2\n",
            "2 -1\n",
            "3 0\n",
            "4 1\n",
            "5 2\n"
          ]
        }
      ]
    },
    {
      "cell_type": "markdown",
      "source": [
        "### List Comprehensions\n",
        "\n",
        "List comprehensions are a very compact way to create lists using a `for` loop:"
      ],
      "metadata": {
        "id": "49vzTsuPpWOK"
      }
    },
    {
      "cell_type": "code",
      "source": [
        "# Create a list of values where x is squared for 0, 1, 2, 3, and 4.\n",
        "\n",
        "list_1 = [x**2 for x in range(0,5)]\n",
        "\n",
        "print(list_1)"
      ],
      "metadata": {
        "id": "MYBD6DbYpZ8t",
        "outputId": "e6c66880-a296-4dd3-fa56-8658321b24bd",
        "colab": {
          "base_uri": "https://localhost:8080/"
        }
      },
      "execution_count": 37,
      "outputs": [
        {
          "output_type": "stream",
          "name": "stdout",
          "text": [
            "[0, 1, 4, 9, 16]\n"
          ]
        }
      ]
    },
    {
      "cell_type": "markdown",
      "source": [
        "### While loops\n",
        "\n",
        "The operator `while` lets you continue to run a loop as long as something is true.\n",
        "\n",
        "While loops always have the structure\n",
        "\n",
        "```\n",
        "while condition:\n",
        "  # Loop contents\n",
        "```  "
      ],
      "metadata": {
        "id": "ffUwbF1CpfDR"
      }
    },
    {
      "cell_type": "code",
      "source": [
        "message = 'still working'\n",
        "counter = 0\n",
        "\n",
        "while counter < 5:\n",
        "    print(message)\n",
        "\n",
        "    counter = counter + 1\n",
        "\n",
        "print(\"done\")"
      ],
      "metadata": {
        "id": "xeyV8FrHp0Bu",
        "outputId": "7d35f8f8-9cb9-4e58-84f6-264dbc627482",
        "colab": {
          "base_uri": "https://localhost:8080/"
        }
      },
      "execution_count": 38,
      "outputs": [
        {
          "output_type": "stream",
          "name": "stdout",
          "text": [
            "still working\n",
            "still working\n",
            "still working\n",
            "still working\n",
            "still working\n",
            "done\n"
          ]
        }
      ]
    },
    {
      "cell_type": "markdown",
      "source": [
        "### Continue operator\n",
        "\n",
        "<code>continue</code> is a special operator to jump ahead to the next iteration of a loop."
      ],
      "metadata": {
        "id": "FEMtTGXzp8Kz"
      }
    },
    {
      "cell_type": "code",
      "source": [
        "lst = [0, 1, 2, 3]\n",
        "\n",
        "for item in lst:\n",
        "\n",
        "    if item == 2:\n",
        "        continue\n",
        "\n",
        "    print(item)"
      ],
      "metadata": {
        "id": "k4GJcHFlq3d_",
        "outputId": "7cbd91e5-59b8-40b6-a5f1-fdbff9f10293",
        "colab": {
          "base_uri": "https://localhost:8080/"
        }
      },
      "execution_count": 39,
      "outputs": [
        {
          "output_type": "stream",
          "name": "stdout",
          "text": [
            "0\n",
            "1\n",
            "3\n"
          ]
        }
      ]
    },
    {
      "cell_type": "markdown",
      "source": [
        "><b>Task:</b> Re-create the above <code>for</code> loop, but have it skip to the next item if the item equals 1 *or* 2."
      ],
      "metadata": {
        "id": "h6uoTYdiq94Y"
      }
    },
    {
      "cell_type": "code",
      "source": [
        "# Your code here\n",
        "lst = [0,1,2,3]\n",
        "for item in lst:\n",
        "  if item == 1 or item == 2:\n",
        "    continue\n",
        "  print(item)"
      ],
      "metadata": {
        "id": "VOaTCVL4rdFQ",
        "outputId": "2c6a382a-849a-4a98-f26c-b8c57e8cb9fa",
        "colab": {
          "base_uri": "https://localhost:8080/"
        }
      },
      "execution_count": 40,
      "outputs": [
        {
          "output_type": "stream",
          "name": "stdout",
          "text": [
            "0\n",
            "3\n"
          ]
        }
      ]
    },
    {
      "cell_type": "markdown",
      "source": [
        "### Applying loops to neuroscience data\n",
        "\n",
        "We'll work with our Patch-Seq dataset (portal.brain-map.org) for these exercises\n",
        "\n",
        "Create a code cell below that imports the <code>patch_seq_expanded.csv</code> file from our class GitHub repo as a <code>Pandas DataFrame</code> variable called <code>patch_seq</code>."
      ],
      "metadata": {
        "id": "9WvtBF_Qu14c"
      }
    },
    {
      "cell_type": "code",
      "source": [
        "# Your code here\n",
        "import pandas as pd\n",
        "\n",
        "url = 'https://raw.githubusercontent.com/hallockh/neur_265/main/data/patch_seq_expanded.csv'\n",
        "patch_seq = pd.read_csv(url)\n",
        "patch_seq"
      ],
      "metadata": {
        "id": "JB-svTqsvg08",
        "outputId": "e3a76f0b-ff96-4c0f-c9d2-e6b83a9b9ccf",
        "colab": {
          "base_uri": "https://localhost:8080/",
          "height": 424
        }
      },
      "execution_count": 41,
      "outputs": [
        {
          "output_type": "execute_result",
          "data": {
            "text/plain": [
              "           ISI  Fast_Trough Marker\n",
              "0    77.337143   -49.899998    Sst\n",
              "1    17.177895   -44.462498    Sst\n",
              "2    48.294737   -47.350002    Sst\n",
              "3     8.980000   -45.656254    Sst\n",
              "4    30.315385   -50.737499    Sst\n",
              "..         ...          ...    ...\n",
              "360  11.052333   -54.743752  Pvalb\n",
              "361   8.860360   -64.875008  Pvalb\n",
              "362   9.192897   -51.312504  Pvalb\n",
              "363  10.544731   -52.281254  Pvalb\n",
              "364  16.396364   -61.437504  Pvalb\n",
              "\n",
              "[365 rows x 3 columns]"
            ],
            "text/html": [
              "\n",
              "  <div id=\"df-3172e684-da00-407f-ac7f-209e36c9c50e\" class=\"colab-df-container\">\n",
              "    <div>\n",
              "<style scoped>\n",
              "    .dataframe tbody tr th:only-of-type {\n",
              "        vertical-align: middle;\n",
              "    }\n",
              "\n",
              "    .dataframe tbody tr th {\n",
              "        vertical-align: top;\n",
              "    }\n",
              "\n",
              "    .dataframe thead th {\n",
              "        text-align: right;\n",
              "    }\n",
              "</style>\n",
              "<table border=\"1\" class=\"dataframe\">\n",
              "  <thead>\n",
              "    <tr style=\"text-align: right;\">\n",
              "      <th></th>\n",
              "      <th>ISI</th>\n",
              "      <th>Fast_Trough</th>\n",
              "      <th>Marker</th>\n",
              "    </tr>\n",
              "  </thead>\n",
              "  <tbody>\n",
              "    <tr>\n",
              "      <th>0</th>\n",
              "      <td>77.337143</td>\n",
              "      <td>-49.899998</td>\n",
              "      <td>Sst</td>\n",
              "    </tr>\n",
              "    <tr>\n",
              "      <th>1</th>\n",
              "      <td>17.177895</td>\n",
              "      <td>-44.462498</td>\n",
              "      <td>Sst</td>\n",
              "    </tr>\n",
              "    <tr>\n",
              "      <th>2</th>\n",
              "      <td>48.294737</td>\n",
              "      <td>-47.350002</td>\n",
              "      <td>Sst</td>\n",
              "    </tr>\n",
              "    <tr>\n",
              "      <th>3</th>\n",
              "      <td>8.980000</td>\n",
              "      <td>-45.656254</td>\n",
              "      <td>Sst</td>\n",
              "    </tr>\n",
              "    <tr>\n",
              "      <th>4</th>\n",
              "      <td>30.315385</td>\n",
              "      <td>-50.737499</td>\n",
              "      <td>Sst</td>\n",
              "    </tr>\n",
              "    <tr>\n",
              "      <th>...</th>\n",
              "      <td>...</td>\n",
              "      <td>...</td>\n",
              "      <td>...</td>\n",
              "    </tr>\n",
              "    <tr>\n",
              "      <th>360</th>\n",
              "      <td>11.052333</td>\n",
              "      <td>-54.743752</td>\n",
              "      <td>Pvalb</td>\n",
              "    </tr>\n",
              "    <tr>\n",
              "      <th>361</th>\n",
              "      <td>8.860360</td>\n",
              "      <td>-64.875008</td>\n",
              "      <td>Pvalb</td>\n",
              "    </tr>\n",
              "    <tr>\n",
              "      <th>362</th>\n",
              "      <td>9.192897</td>\n",
              "      <td>-51.312504</td>\n",
              "      <td>Pvalb</td>\n",
              "    </tr>\n",
              "    <tr>\n",
              "      <th>363</th>\n",
              "      <td>10.544731</td>\n",
              "      <td>-52.281254</td>\n",
              "      <td>Pvalb</td>\n",
              "    </tr>\n",
              "    <tr>\n",
              "      <th>364</th>\n",
              "      <td>16.396364</td>\n",
              "      <td>-61.437504</td>\n",
              "      <td>Pvalb</td>\n",
              "    </tr>\n",
              "  </tbody>\n",
              "</table>\n",
              "<p>365 rows × 3 columns</p>\n",
              "</div>\n",
              "    <div class=\"colab-df-buttons\">\n",
              "\n",
              "  <div class=\"colab-df-container\">\n",
              "    <button class=\"colab-df-convert\" onclick=\"convertToInteractive('df-3172e684-da00-407f-ac7f-209e36c9c50e')\"\n",
              "            title=\"Convert this dataframe to an interactive table.\"\n",
              "            style=\"display:none;\">\n",
              "\n",
              "  <svg xmlns=\"http://www.w3.org/2000/svg\" height=\"24px\" viewBox=\"0 -960 960 960\">\n",
              "    <path d=\"M120-120v-720h720v720H120Zm60-500h600v-160H180v160Zm220 220h160v-160H400v160Zm0 220h160v-160H400v160ZM180-400h160v-160H180v160Zm440 0h160v-160H620v160ZM180-180h160v-160H180v160Zm440 0h160v-160H620v160Z\"/>\n",
              "  </svg>\n",
              "    </button>\n",
              "\n",
              "  <style>\n",
              "    .colab-df-container {\n",
              "      display:flex;\n",
              "      gap: 12px;\n",
              "    }\n",
              "\n",
              "    .colab-df-convert {\n",
              "      background-color: #E8F0FE;\n",
              "      border: none;\n",
              "      border-radius: 50%;\n",
              "      cursor: pointer;\n",
              "      display: none;\n",
              "      fill: #1967D2;\n",
              "      height: 32px;\n",
              "      padding: 0 0 0 0;\n",
              "      width: 32px;\n",
              "    }\n",
              "\n",
              "    .colab-df-convert:hover {\n",
              "      background-color: #E2EBFA;\n",
              "      box-shadow: 0px 1px 2px rgba(60, 64, 67, 0.3), 0px 1px 3px 1px rgba(60, 64, 67, 0.15);\n",
              "      fill: #174EA6;\n",
              "    }\n",
              "\n",
              "    .colab-df-buttons div {\n",
              "      margin-bottom: 4px;\n",
              "    }\n",
              "\n",
              "    [theme=dark] .colab-df-convert {\n",
              "      background-color: #3B4455;\n",
              "      fill: #D2E3FC;\n",
              "    }\n",
              "\n",
              "    [theme=dark] .colab-df-convert:hover {\n",
              "      background-color: #434B5C;\n",
              "      box-shadow: 0px 1px 3px 1px rgba(0, 0, 0, 0.15);\n",
              "      filter: drop-shadow(0px 1px 2px rgba(0, 0, 0, 0.3));\n",
              "      fill: #FFFFFF;\n",
              "    }\n",
              "  </style>\n",
              "\n",
              "    <script>\n",
              "      const buttonEl =\n",
              "        document.querySelector('#df-3172e684-da00-407f-ac7f-209e36c9c50e button.colab-df-convert');\n",
              "      buttonEl.style.display =\n",
              "        google.colab.kernel.accessAllowed ? 'block' : 'none';\n",
              "\n",
              "      async function convertToInteractive(key) {\n",
              "        const element = document.querySelector('#df-3172e684-da00-407f-ac7f-209e36c9c50e');\n",
              "        const dataTable =\n",
              "          await google.colab.kernel.invokeFunction('convertToInteractive',\n",
              "                                                    [key], {});\n",
              "        if (!dataTable) return;\n",
              "\n",
              "        const docLinkHtml = 'Like what you see? Visit the ' +\n",
              "          '<a target=\"_blank\" href=https://colab.research.google.com/notebooks/data_table.ipynb>data table notebook</a>'\n",
              "          + ' to learn more about interactive tables.';\n",
              "        element.innerHTML = '';\n",
              "        dataTable['output_type'] = 'display_data';\n",
              "        await google.colab.output.renderOutput(dataTable, element);\n",
              "        const docLink = document.createElement('div');\n",
              "        docLink.innerHTML = docLinkHtml;\n",
              "        element.appendChild(docLink);\n",
              "      }\n",
              "    </script>\n",
              "  </div>\n",
              "\n",
              "\n",
              "<div id=\"df-9b070b2d-83c0-43e2-8320-7f8635cc6ba7\">\n",
              "  <button class=\"colab-df-quickchart\" onclick=\"quickchart('df-9b070b2d-83c0-43e2-8320-7f8635cc6ba7')\"\n",
              "            title=\"Suggest charts\"\n",
              "            style=\"display:none;\">\n",
              "\n",
              "<svg xmlns=\"http://www.w3.org/2000/svg\" height=\"24px\"viewBox=\"0 0 24 24\"\n",
              "     width=\"24px\">\n",
              "    <g>\n",
              "        <path d=\"M19 3H5c-1.1 0-2 .9-2 2v14c0 1.1.9 2 2 2h14c1.1 0 2-.9 2-2V5c0-1.1-.9-2-2-2zM9 17H7v-7h2v7zm4 0h-2V7h2v10zm4 0h-2v-4h2v4z\"/>\n",
              "    </g>\n",
              "</svg>\n",
              "  </button>\n",
              "\n",
              "<style>\n",
              "  .colab-df-quickchart {\n",
              "      --bg-color: #E8F0FE;\n",
              "      --fill-color: #1967D2;\n",
              "      --hover-bg-color: #E2EBFA;\n",
              "      --hover-fill-color: #174EA6;\n",
              "      --disabled-fill-color: #AAA;\n",
              "      --disabled-bg-color: #DDD;\n",
              "  }\n",
              "\n",
              "  [theme=dark] .colab-df-quickchart {\n",
              "      --bg-color: #3B4455;\n",
              "      --fill-color: #D2E3FC;\n",
              "      --hover-bg-color: #434B5C;\n",
              "      --hover-fill-color: #FFFFFF;\n",
              "      --disabled-bg-color: #3B4455;\n",
              "      --disabled-fill-color: #666;\n",
              "  }\n",
              "\n",
              "  .colab-df-quickchart {\n",
              "    background-color: var(--bg-color);\n",
              "    border: none;\n",
              "    border-radius: 50%;\n",
              "    cursor: pointer;\n",
              "    display: none;\n",
              "    fill: var(--fill-color);\n",
              "    height: 32px;\n",
              "    padding: 0;\n",
              "    width: 32px;\n",
              "  }\n",
              "\n",
              "  .colab-df-quickchart:hover {\n",
              "    background-color: var(--hover-bg-color);\n",
              "    box-shadow: 0 1px 2px rgba(60, 64, 67, 0.3), 0 1px 3px 1px rgba(60, 64, 67, 0.15);\n",
              "    fill: var(--button-hover-fill-color);\n",
              "  }\n",
              "\n",
              "  .colab-df-quickchart-complete:disabled,\n",
              "  .colab-df-quickchart-complete:disabled:hover {\n",
              "    background-color: var(--disabled-bg-color);\n",
              "    fill: var(--disabled-fill-color);\n",
              "    box-shadow: none;\n",
              "  }\n",
              "\n",
              "  .colab-df-spinner {\n",
              "    border: 2px solid var(--fill-color);\n",
              "    border-color: transparent;\n",
              "    border-bottom-color: var(--fill-color);\n",
              "    animation:\n",
              "      spin 1s steps(1) infinite;\n",
              "  }\n",
              "\n",
              "  @keyframes spin {\n",
              "    0% {\n",
              "      border-color: transparent;\n",
              "      border-bottom-color: var(--fill-color);\n",
              "      border-left-color: var(--fill-color);\n",
              "    }\n",
              "    20% {\n",
              "      border-color: transparent;\n",
              "      border-left-color: var(--fill-color);\n",
              "      border-top-color: var(--fill-color);\n",
              "    }\n",
              "    30% {\n",
              "      border-color: transparent;\n",
              "      border-left-color: var(--fill-color);\n",
              "      border-top-color: var(--fill-color);\n",
              "      border-right-color: var(--fill-color);\n",
              "    }\n",
              "    40% {\n",
              "      border-color: transparent;\n",
              "      border-right-color: var(--fill-color);\n",
              "      border-top-color: var(--fill-color);\n",
              "    }\n",
              "    60% {\n",
              "      border-color: transparent;\n",
              "      border-right-color: var(--fill-color);\n",
              "    }\n",
              "    80% {\n",
              "      border-color: transparent;\n",
              "      border-right-color: var(--fill-color);\n",
              "      border-bottom-color: var(--fill-color);\n",
              "    }\n",
              "    90% {\n",
              "      border-color: transparent;\n",
              "      border-bottom-color: var(--fill-color);\n",
              "    }\n",
              "  }\n",
              "</style>\n",
              "\n",
              "  <script>\n",
              "    async function quickchart(key) {\n",
              "      const quickchartButtonEl =\n",
              "        document.querySelector('#' + key + ' button');\n",
              "      quickchartButtonEl.disabled = true;  // To prevent multiple clicks.\n",
              "      quickchartButtonEl.classList.add('colab-df-spinner');\n",
              "      try {\n",
              "        const charts = await google.colab.kernel.invokeFunction(\n",
              "            'suggestCharts', [key], {});\n",
              "      } catch (error) {\n",
              "        console.error('Error during call to suggestCharts:', error);\n",
              "      }\n",
              "      quickchartButtonEl.classList.remove('colab-df-spinner');\n",
              "      quickchartButtonEl.classList.add('colab-df-quickchart-complete');\n",
              "    }\n",
              "    (() => {\n",
              "      let quickchartButtonEl =\n",
              "        document.querySelector('#df-9b070b2d-83c0-43e2-8320-7f8635cc6ba7 button');\n",
              "      quickchartButtonEl.style.display =\n",
              "        google.colab.kernel.accessAllowed ? 'block' : 'none';\n",
              "    })();\n",
              "  </script>\n",
              "</div>\n",
              "    </div>\n",
              "  </div>\n"
            ],
            "application/vnd.google.colaboratory.intrinsic+json": {
              "type": "dataframe",
              "variable_name": "patch_seq",
              "summary": "{\n  \"name\": \"patch_seq\",\n  \"rows\": 365,\n  \"fields\": [\n    {\n      \"column\": \"ISI\",\n      \"properties\": {\n        \"dtype\": \"number\",\n        \"std\": 21.792589706649288,\n        \"min\": 6.085121951,\n        \"max\": 187.9866667,\n        \"samples\": [\n          22.49069767,\n          67.255,\n          18.37372549\n        ],\n        \"num_unique_values\": 356,\n        \"semantic_type\": \"\",\n        \"description\": \"\"\n      }\n    },\n    {\n      \"column\": \"Fast_Trough\",\n      \"properties\": {\n        \"dtype\": \"number\",\n        \"std\": 5.683855450419779,\n        \"min\": -76.68750763,\n        \"max\": -30.40625191,\n        \"samples\": [\n          -53.31250381,\n          -53.31874847,\n          -56.59375381\n        ],\n        \"num_unique_values\": 341,\n        \"semantic_type\": \"\",\n        \"description\": \"\"\n      }\n    },\n    {\n      \"column\": \"Marker\",\n      \"properties\": {\n        \"dtype\": \"category\",\n        \"samples\": [\n          \"Pvalb\",\n          \"Sst\"\n        ],\n        \"num_unique_values\": 2,\n        \"semantic_type\": \"\",\n        \"description\": \"\"\n      }\n    }\n  ]\n}"
            }
          },
          "metadata": {},
          "execution_count": 41
        }
      ]
    },
    {
      "cell_type": "markdown",
      "source": [
        "Look at this variable below. There should be three column headers: <code>Marker</code>, <code>ISI</code>, and <code>Fast_Trough</code>. You're already familiar with <code>Marker</code> and <code>ISI</code>, and you were introduced to <code>Fast_Trough</code> last week when we looked at the minimum value of the membrane potential during the undershoot.\n",
        "\n",
        "*fast trough is the most negative value of the undershoot of the action potential*\n",
        "![](https://github.com/ajuavinett/CellTypesLesson/blob/master/docs/ap_features.png?raw=true)"
      ],
      "metadata": {
        "id": "zGHc73ztviG8"
      }
    },
    {
      "cell_type": "code",
      "source": [
        "# Look at your patch_seq variable here\n"
      ],
      "metadata": {
        "id": "viGwZ-l-wV1H"
      },
      "execution_count": 42,
      "outputs": []
    },
    {
      "cell_type": "markdown",
      "source": [
        "Let's create a loop that will make a scatter plot of <code>ISI</code> vs. <code>Fast_Trough</code> only for *Sst*-containing neurons"
      ],
      "metadata": {
        "id": "Wh_lYlrgwsA7"
      }
    },
    {
      "cell_type": "code",
      "source": [
        "from matplotlib import pyplot as plt\n",
        "# len gives the size of the longest axis (ie would produce # of columns if there was more columns than rows)\n",
        "patch_length = len(patch_seq)\n",
        "\n",
        "for i in range(patch_length):\n",
        "  if patch_seq.iloc[i,2] == 'Sst':\n",
        "    plt.scatter(patch_seq.iloc[i,0],patch_seq.iloc[i,1],color = \"blue\")\n",
        "  plt.xlabel('ISI')\n",
        "  plt.ylabel('Fast_Trough')\n",
        "\n",
        "# .iloc line is looking for all data in colummn 2, but iterating(changing) through all the rows to see if row x,2 is = 'Sst'\n",
        "# plt.scatter line is creating a scatter plot, analyzing the previous line and running it against column 1 to create the scatter plot with fast trough on the other axis"
      ],
      "metadata": {
        "id": "nXTd3Jv-xepS",
        "outputId": "65f9f405-8905-4736-d47a-025fb2656372",
        "colab": {
          "base_uri": "https://localhost:8080/",
          "height": 449
        }
      },
      "execution_count": 43,
      "outputs": [
        {
          "output_type": "display_data",
          "data": {
            "text/plain": [
              "<Figure size 640x480 with 1 Axes>"
            ],
            "image/png": "[encoded data removed]"
          },
          "metadata": {}
        }
      ]
    },
    {
      "cell_type": "markdown",
      "source": [
        "><b>Task:</b> Re-run the above code cell, but create labels for your x-axis and y-axis."
      ],
      "metadata": {
        "id": "mikpLldO3sHo"
      }
    },
    {
      "cell_type": "markdown",
      "source": [
        "><b>Task:</b> Create a <code>for</code> loop that will make a scatter plot of <code>ISI</code> vs. <code>Fast Trough</code> for *Sst*-containing neurons in blue, and *Pvalb*-containing neurons in red. Label your axes."
      ],
      "metadata": {
        "id": "s5Iad3_24T3L"
      }
    },
    {
      "cell_type": "code",
      "source": [
        "# Your code here\n",
        "patch_length = len(patch_seq)\n",
        "\n",
        "for i in range(patch_length):\n",
        "  if patch_seq.iloc[i,2] == 'Sst':\n",
        "    plt.scatter(patch_seq.iloc[i,0],patch_seq.iloc[i,1],color = \"#717EC3\")\n",
        "  if patch_seq.iloc[i,2] == 'Pvalb':\n",
        "    plt.scatter(patch_seq.iloc[i,0],patch_seq.iloc[i,1],color = \"#CF9FFF\")\n",
        "  plt.xlabel('ISI')\n",
        "  plt.ylabel('Fast_Trough')"
      ],
      "metadata": {
        "id": "G9jhJINE5nld",
        "outputId": "6128ce06-987e-43a0-e8df-6f715ad56209",
        "colab": {
          "base_uri": "https://localhost:8080/",
          "height": 449
        }
      },
      "execution_count": 44,
      "outputs": [
        {
          "output_type": "display_data",
          "data": {
            "text/plain": [
              "<Figure size 640x480 with 1 Axes>"
            ],
            "image/png": "[encoded data removed]"
          },
          "metadata": {}
        }
      ]
    },
    {
      "cell_type": "markdown",
      "source": [
        "# Functions\n",
        "\n",
        "If we have a useful chunk of code, we can save that as a function to easily recall later, using the keyword `def`. The syntax for functions is similar to loops and if statements:\n",
        "\n",
        "```\n",
        "def function():\n",
        "  print(value)\n",
        "```\n",
        "\n"
      ],
      "metadata": {
        "id": "XjI5ZAgz56zr"
      }
    },
    {
      "cell_type": "code",
      "source": [
        "# Make a function that makes a scatter plot for Sst neurons in blue, and Pvalb neurons in red\n",
        "\n",
        "def makeScatter(patch_seq):\n",
        "    # First, write docstring:\n",
        "    \"\"\"\n",
        "    This is a function that will create a scatter plot of ISI vs. Fast Trough for Sst-containing and Pvalb-containing neurons.\n",
        "    \"\"\"\n",
        "    # Your code here!\n",
        "    patch_length = len(data)\n",
        "    for i in range(patch_length):\n",
        "      if data.iloc[i,2] == 'Sst':\n",
        "        plt.scatter(data.iloc[i,0],data.iloc[i,1],color = \"#717EC3\")\n",
        "      if data.iloc[i,2] == 'Pvalb':\n",
        "        plt.scatter(data.iloc[i,0],data.iloc[i,1],color = \"#CF9FFF\")\n",
        "      plt.xlabel('ISI')\n",
        "      plt.ylabel('Fast_Trough')\n",
        "\n",
        "plt.show()"
      ],
      "metadata": {
        "id": "15yb2fYo6Xbd"
      },
      "execution_count": 51,
      "outputs": []
    },
    {
      "cell_type": "code",
      "source": [
        "makeScatter(patch_seq)"
      ],
      "metadata": {
        "id": "EDN-4a1-7ppt",
        "outputId": "f5ae207a-9c69-4cdc-e8f7-1658d4a36df3",
        "colab": {
          "base_uri": "https://localhost:8080/",
          "height": 449
        }
      },
      "execution_count": 53,
      "outputs": [
        {
          "output_type": "display_data",
          "data": {
            "text/plain": [
              "<Figure size 640x480 with 1 Axes>"
            ],
            "image/png": "[encoded data removed]"
          },
          "metadata": {}
        }
      ]
    }
  ]
}